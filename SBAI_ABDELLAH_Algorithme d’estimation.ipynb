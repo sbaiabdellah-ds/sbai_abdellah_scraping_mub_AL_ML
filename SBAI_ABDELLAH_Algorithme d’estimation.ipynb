{
 "cells": [
  {
   "cell_type": "code",
   "execution_count": 147,
   "id": "0375a575",
   "metadata": {},
   "outputs": [],
   "source": [
    "#importer les package\n",
    "import pandas as pd\n",
    "import numpy as np\n",
    "import matplotlib.pyplot as plt\n",
    "import seaborn as sns\n",
    "import re "
   ]
  },
  {
   "cell_type": "code",
   "execution_count": 148,
   "id": "3e5f2fff",
   "metadata": {},
   "outputs": [
    {
     "data": {
      "text/html": [
       "<div>\n",
       "<style scoped>\n",
       "    .dataframe tbody tr th:only-of-type {\n",
       "        vertical-align: middle;\n",
       "    }\n",
       "\n",
       "    .dataframe tbody tr th {\n",
       "        vertical-align: top;\n",
       "    }\n",
       "\n",
       "    .dataframe thead th {\n",
       "        text-align: right;\n",
       "    }\n",
       "</style>\n",
       "<table border=\"1\" class=\"dataframe\">\n",
       "  <thead>\n",
       "    <tr style=\"text-align: right;\">\n",
       "      <th></th>\n",
       "      <th>titre</th>\n",
       "      <th>lien</th>\n",
       "      <th>date_pub</th>\n",
       "      <th>place</th>\n",
       "      <th>prix_partir</th>\n",
       "      <th>prix_m</th>\n",
       "      <th>standing</th>\n",
       "      <th>description</th>\n",
       "    </tr>\n",
       "  </thead>\n",
       "  <tbody>\n",
       "    <tr>\n",
       "      <th>0</th>\n",
       "      <td>Résidence Eglantine</td>\n",
       "      <td>https://www.mubawab.ma/fr/p/3366/r%C3%A9sidenc...</td>\n",
       "      <td>Publié il y a 5 mois</td>\n",
       "      <td>Oasis à Casablanca</td>\n",
       "      <td>À partir de 1 462 000 DH</td>\n",
       "      <td>Not found!</td>\n",
       "      <td>['Haut standing', 'Finalisé']</td>\n",
       "      <td>Nichée au plein milieu des villas du quartier ...</td>\n",
       "    </tr>\n",
       "    <tr>\n",
       "      <th>1</th>\n",
       "      <td>Shems Al Madina - Lots de Villas</td>\n",
       "      <td>https://www.mubawab.ma/fr/p/1730/shems-al-madi...</td>\n",
       "      <td>Publié il y a 5 mois</td>\n",
       "      <td>Golf de Benslimane à Benslimane</td>\n",
       "      <td>À partir de 475 000 DH</td>\n",
       "      <td>2 500DH / m²</td>\n",
       "      <td>['Haut standing', 'En cours de construction']</td>\n",
       "      <td>Shems Almadina Benslimane offrent à ses réside...</td>\n",
       "    </tr>\n",
       "    <tr>\n",
       "      <th>2</th>\n",
       "      <td>Ô Mâarif, votre investissement au centre de Ca...</td>\n",
       "      <td>https://www.mubawab.ma/fr/p/2847/%C3%B4-m%C3%A...</td>\n",
       "      <td>Publié il y a 5 mois</td>\n",
       "      <td>Maârif à Casablanca</td>\n",
       "      <td>À partir de 1 699 000 DH</td>\n",
       "      <td>Not found!</td>\n",
       "      <td>['Haut standing', 'Finalisé']</td>\n",
       "      <td>Le projet Ô Maarif s’inscrit dans une volonté ...</td>\n",
       "    </tr>\n",
       "    <tr>\n",
       "      <th>3</th>\n",
       "      <td>Famille D'amour</td>\n",
       "      <td>https://www.mubawab.ma/fr/p/3479/famille-d-amour</td>\n",
       "      <td>Publié il y a 5 mois</td>\n",
       "      <td>Bourgogne Ouest à Casablanca</td>\n",
       "      <td>Prix à consulter</td>\n",
       "      <td>17 500DH / m²</td>\n",
       "      <td>['Haut standing', 'Finalisé']</td>\n",
       "      <td>Votre nid familial en plein centre de Casablan...</td>\n",
       "    </tr>\n",
       "    <tr>\n",
       "      <th>4</th>\n",
       "      <td>Résidence Duo Verde</td>\n",
       "      <td>https://www.mubawab.ma/fr/p/3365/r%C3%A9sidenc...</td>\n",
       "      <td>Publié il y a 5 mois</td>\n",
       "      <td>Oasis à Casablanca</td>\n",
       "      <td>À partir de 1 308 000 DH</td>\n",
       "      <td>Not found!</td>\n",
       "      <td>['Haut standing', 'Finalisé']</td>\n",
       "      <td>Une réussite architecturale au cœur d'un quart...</td>\n",
       "    </tr>\n",
       "    <tr>\n",
       "      <th>...</th>\n",
       "      <td>...</td>\n",
       "      <td>...</td>\n",
       "      <td>...</td>\n",
       "      <td>...</td>\n",
       "      <td>...</td>\n",
       "      <td>...</td>\n",
       "      <td>...</td>\n",
       "      <td>...</td>\n",
       "    </tr>\n",
       "    <tr>\n",
       "      <th>147</th>\n",
       "      <td>Gloria Beach</td>\n",
       "      <td>https://www.mubawab.ma/fr/p/3448/gloria-beach</td>\n",
       "      <td>Publié il y a 2 mois</td>\n",
       "      <td>Sidi Rahal</td>\n",
       "      <td>À partir de 690 000 DH</td>\n",
       "      <td>9 500DH / m²</td>\n",
       "      <td>['Haut standing', 'Finalisé', 'Livraison décem...</td>\n",
       "      <td>Située à 25 km au Sud de Casablanca, Gloria of...</td>\n",
       "    </tr>\n",
       "    <tr>\n",
       "      <th>148</th>\n",
       "      <td>Projet IKRAM</td>\n",
       "      <td>https://www.mubawab.ma/fr/p/3296/projet-ikram</td>\n",
       "      <td>Publié il y a 2 mois</td>\n",
       "      <td>Médiouna</td>\n",
       "      <td>À partir de 230 000 DH</td>\n",
       "      <td>Not found!</td>\n",
       "      <td>['Économique', 'Finalisé']</td>\n",
       "      <td>Trouver votre bonheur dans un espace pertinent...</td>\n",
       "    </tr>\n",
       "    <tr>\n",
       "      <th>149</th>\n",
       "      <td>Norway Amira</td>\n",
       "      <td>https://www.mubawab.ma/fr/p/3424/norway-amira</td>\n",
       "      <td>Publié il y a 2 mois</td>\n",
       "      <td>Aïn Sebaâ à Casablanca</td>\n",
       "      <td>À partir de 780 000 DH</td>\n",
       "      <td>10 000DH / m²</td>\n",
       "      <td>['Moyen standing', 'Finalisé']</td>\n",
       "      <td>Norway Amira est le résultat d’une étude détai...</td>\n",
       "    </tr>\n",
       "    <tr>\n",
       "      <th>150</th>\n",
       "      <td>Bougainvillier</td>\n",
       "      <td>https://www.mubawab.ma/fr/p/3493/bougainvillier</td>\n",
       "      <td>Publié il y a 2 mois</td>\n",
       "      <td>Tenoukchet à Mohammedia</td>\n",
       "      <td>À partir de 690 000 DH</td>\n",
       "      <td>Not found!</td>\n",
       "      <td>['Moyen standing', 'Finalisé']</td>\n",
       "      <td>La Résidence Bougainvillier se situe à l’entré...</td>\n",
       "    </tr>\n",
       "    <tr>\n",
       "      <th>151</th>\n",
       "      <td>Villa Estrilla Cherrat</td>\n",
       "      <td>https://www.mubawab.ma/fr/p/3353/villa-estrill...</td>\n",
       "      <td>Publié il y a 2 mois</td>\n",
       "      <td>Plage Oued Cherrat à Bouznika</td>\n",
       "      <td>À partir de 4 500 000 DH</td>\n",
       "      <td>12 500DH / m²</td>\n",
       "      <td>['Haut standing', 'Finalisé']</td>\n",
       "      <td>A 5 mn à pieds de la plage Oued Cherrat, se tr...</td>\n",
       "    </tr>\n",
       "  </tbody>\n",
       "</table>\n",
       "<p>152 rows × 8 columns</p>\n",
       "</div>"
      ],
      "text/plain": [
       "                                                 titre  \\\n",
       "0                                  Résidence Eglantine   \n",
       "1                     Shems Al Madina - Lots de Villas   \n",
       "2    Ô Mâarif, votre investissement au centre de Ca...   \n",
       "3                                      Famille D'amour   \n",
       "4                                  Résidence Duo Verde   \n",
       "..                                                 ...   \n",
       "147                                       Gloria Beach   \n",
       "148                                       Projet IKRAM   \n",
       "149                                       Norway Amira   \n",
       "150                                     Bougainvillier   \n",
       "151                             Villa Estrilla Cherrat   \n",
       "\n",
       "                                                  lien              date_pub  \\\n",
       "0    https://www.mubawab.ma/fr/p/3366/r%C3%A9sidenc...  Publié il y a 5 mois   \n",
       "1    https://www.mubawab.ma/fr/p/1730/shems-al-madi...  Publié il y a 5 mois   \n",
       "2    https://www.mubawab.ma/fr/p/2847/%C3%B4-m%C3%A...  Publié il y a 5 mois   \n",
       "3     https://www.mubawab.ma/fr/p/3479/famille-d-amour  Publié il y a 5 mois   \n",
       "4    https://www.mubawab.ma/fr/p/3365/r%C3%A9sidenc...  Publié il y a 5 mois   \n",
       "..                                                 ...                   ...   \n",
       "147      https://www.mubawab.ma/fr/p/3448/gloria-beach  Publié il y a 2 mois   \n",
       "148      https://www.mubawab.ma/fr/p/3296/projet-ikram  Publié il y a 2 mois   \n",
       "149      https://www.mubawab.ma/fr/p/3424/norway-amira  Publié il y a 2 mois   \n",
       "150    https://www.mubawab.ma/fr/p/3493/bougainvillier  Publié il y a 2 mois   \n",
       "151  https://www.mubawab.ma/fr/p/3353/villa-estrill...  Publié il y a 2 mois   \n",
       "\n",
       "                               place               prix_partir         prix_m  \\\n",
       "0                 Oasis à Casablanca  À partir de 1 462 000 DH     Not found!   \n",
       "1    Golf de Benslimane à Benslimane    À partir de 475 000 DH   2 500DH / m²   \n",
       "2                Maârif à Casablanca  À partir de 1 699 000 DH     Not found!   \n",
       "3       Bourgogne Ouest à Casablanca          Prix à consulter  17 500DH / m²   \n",
       "4                 Oasis à Casablanca  À partir de 1 308 000 DH     Not found!   \n",
       "..                               ...                       ...            ...   \n",
       "147                       Sidi Rahal    À partir de 690 000 DH   9 500DH / m²   \n",
       "148                         Médiouna    À partir de 230 000 DH     Not found!   \n",
       "149           Aïn Sebaâ à Casablanca    À partir de 780 000 DH  10 000DH / m²   \n",
       "150          Tenoukchet à Mohammedia    À partir de 690 000 DH     Not found!   \n",
       "151    Plage Oued Cherrat à Bouznika  À partir de 4 500 000 DH  12 500DH / m²   \n",
       "\n",
       "                                              standing  \\\n",
       "0                        ['Haut standing', 'Finalisé']   \n",
       "1        ['Haut standing', 'En cours de construction']   \n",
       "2                        ['Haut standing', 'Finalisé']   \n",
       "3                        ['Haut standing', 'Finalisé']   \n",
       "4                        ['Haut standing', 'Finalisé']   \n",
       "..                                                 ...   \n",
       "147  ['Haut standing', 'Finalisé', 'Livraison décem...   \n",
       "148                         ['Économique', 'Finalisé']   \n",
       "149                     ['Moyen standing', 'Finalisé']   \n",
       "150                     ['Moyen standing', 'Finalisé']   \n",
       "151                      ['Haut standing', 'Finalisé']   \n",
       "\n",
       "                                           description  \n",
       "0    Nichée au plein milieu des villas du quartier ...  \n",
       "1    Shems Almadina Benslimane offrent à ses réside...  \n",
       "2    Le projet Ô Maarif s’inscrit dans une volonté ...  \n",
       "3    Votre nid familial en plein centre de Casablan...  \n",
       "4    Une réussite architecturale au cœur d'un quart...  \n",
       "..                                                 ...  \n",
       "147  Située à 25 km au Sud de Casablanca, Gloria of...  \n",
       "148  Trouver votre bonheur dans un espace pertinent...  \n",
       "149  Norway Amira est le résultat d’une étude détai...  \n",
       "150  La Résidence Bougainvillier se situe à l’entré...  \n",
       "151  A 5 mn à pieds de la plage Oued Cherrat, se tr...  \n",
       "\n",
       "[152 rows x 8 columns]"
      ]
     },
     "execution_count": 148,
     "metadata": {},
     "output_type": "execute_result"
    }
   ],
   "source": [
    "#lire la base de donnees\n",
    "df=pd.read_csv('Mubwab_scraping.csv')\n",
    "df"
   ]
  },
  {
   "cell_type": "code",
   "execution_count": 149,
   "id": "5712065e",
   "metadata": {},
   "outputs": [
    {
     "data": {
      "text/html": [
       "<div>\n",
       "<style scoped>\n",
       "    .dataframe tbody tr th:only-of-type {\n",
       "        vertical-align: middle;\n",
       "    }\n",
       "\n",
       "    .dataframe tbody tr th {\n",
       "        vertical-align: top;\n",
       "    }\n",
       "\n",
       "    .dataframe thead th {\n",
       "        text-align: right;\n",
       "    }\n",
       "</style>\n",
       "<table border=\"1\" class=\"dataframe\">\n",
       "  <thead>\n",
       "    <tr style=\"text-align: right;\">\n",
       "      <th></th>\n",
       "      <th>titre</th>\n",
       "      <th>lien</th>\n",
       "      <th>date_pub</th>\n",
       "      <th>place</th>\n",
       "      <th>prix_partir</th>\n",
       "      <th>prix_m</th>\n",
       "      <th>standing</th>\n",
       "      <th>description</th>\n",
       "    </tr>\n",
       "  </thead>\n",
       "  <tbody>\n",
       "    <tr>\n",
       "      <th>0</th>\n",
       "      <td>Résidence Eglantine</td>\n",
       "      <td>https://www.mubawab.ma/fr/p/3366/r%C3%A9sidenc...</td>\n",
       "      <td>Publié il y a 5 mois</td>\n",
       "      <td>Oasis à Casablanca</td>\n",
       "      <td>À partir de 1 462 000 DH</td>\n",
       "      <td>Not found!</td>\n",
       "      <td>['Haut standing', 'Finalisé']</td>\n",
       "      <td>Nichée au plein milieu des villas du quartier ...</td>\n",
       "    </tr>\n",
       "    <tr>\n",
       "      <th>1</th>\n",
       "      <td>Shems Al Madina - Lots de Villas</td>\n",
       "      <td>https://www.mubawab.ma/fr/p/1730/shems-al-madi...</td>\n",
       "      <td>Publié il y a 5 mois</td>\n",
       "      <td>Golf de Benslimane à Benslimane</td>\n",
       "      <td>À partir de 475 000 DH</td>\n",
       "      <td>2 500DH / m²</td>\n",
       "      <td>['Haut standing', 'En cours de construction']</td>\n",
       "      <td>Shems Almadina Benslimane offrent à ses réside...</td>\n",
       "    </tr>\n",
       "    <tr>\n",
       "      <th>2</th>\n",
       "      <td>Ô Mâarif, votre investissement au centre de Ca...</td>\n",
       "      <td>https://www.mubawab.ma/fr/p/2847/%C3%B4-m%C3%A...</td>\n",
       "      <td>Publié il y a 5 mois</td>\n",
       "      <td>Maârif à Casablanca</td>\n",
       "      <td>À partir de 1 699 000 DH</td>\n",
       "      <td>Not found!</td>\n",
       "      <td>['Haut standing', 'Finalisé']</td>\n",
       "      <td>Le projet Ô Maarif s’inscrit dans une volonté ...</td>\n",
       "    </tr>\n",
       "    <tr>\n",
       "      <th>3</th>\n",
       "      <td>Famille D'amour</td>\n",
       "      <td>https://www.mubawab.ma/fr/p/3479/famille-d-amour</td>\n",
       "      <td>Publié il y a 5 mois</td>\n",
       "      <td>Bourgogne Ouest à Casablanca</td>\n",
       "      <td>Prix à consulter</td>\n",
       "      <td>17 500DH / m²</td>\n",
       "      <td>['Haut standing', 'Finalisé']</td>\n",
       "      <td>Votre nid familial en plein centre de Casablan...</td>\n",
       "    </tr>\n",
       "    <tr>\n",
       "      <th>4</th>\n",
       "      <td>Résidence Duo Verde</td>\n",
       "      <td>https://www.mubawab.ma/fr/p/3365/r%C3%A9sidenc...</td>\n",
       "      <td>Publié il y a 5 mois</td>\n",
       "      <td>Oasis à Casablanca</td>\n",
       "      <td>À partir de 1 308 000 DH</td>\n",
       "      <td>Not found!</td>\n",
       "      <td>['Haut standing', 'Finalisé']</td>\n",
       "      <td>Une réussite architecturale au cœur d'un quart...</td>\n",
       "    </tr>\n",
       "  </tbody>\n",
       "</table>\n",
       "</div>"
      ],
      "text/plain": [
       "                                               titre  \\\n",
       "0                                Résidence Eglantine   \n",
       "1                   Shems Al Madina - Lots de Villas   \n",
       "2  Ô Mâarif, votre investissement au centre de Ca...   \n",
       "3                                    Famille D'amour   \n",
       "4                                Résidence Duo Verde   \n",
       "\n",
       "                                                lien              date_pub  \\\n",
       "0  https://www.mubawab.ma/fr/p/3366/r%C3%A9sidenc...  Publié il y a 5 mois   \n",
       "1  https://www.mubawab.ma/fr/p/1730/shems-al-madi...  Publié il y a 5 mois   \n",
       "2  https://www.mubawab.ma/fr/p/2847/%C3%B4-m%C3%A...  Publié il y a 5 mois   \n",
       "3   https://www.mubawab.ma/fr/p/3479/famille-d-amour  Publié il y a 5 mois   \n",
       "4  https://www.mubawab.ma/fr/p/3365/r%C3%A9sidenc...  Publié il y a 5 mois   \n",
       "\n",
       "                             place               prix_partir         prix_m  \\\n",
       "0               Oasis à Casablanca  À partir de 1 462 000 DH     Not found!   \n",
       "1  Golf de Benslimane à Benslimane    À partir de 475 000 DH   2 500DH / m²   \n",
       "2              Maârif à Casablanca  À partir de 1 699 000 DH     Not found!   \n",
       "3     Bourgogne Ouest à Casablanca          Prix à consulter  17 500DH / m²   \n",
       "4               Oasis à Casablanca  À partir de 1 308 000 DH     Not found!   \n",
       "\n",
       "                                        standing  \\\n",
       "0                  ['Haut standing', 'Finalisé']   \n",
       "1  ['Haut standing', 'En cours de construction']   \n",
       "2                  ['Haut standing', 'Finalisé']   \n",
       "3                  ['Haut standing', 'Finalisé']   \n",
       "4                  ['Haut standing', 'Finalisé']   \n",
       "\n",
       "                                         description  \n",
       "0  Nichée au plein milieu des villas du quartier ...  \n",
       "1  Shems Almadina Benslimane offrent à ses réside...  \n",
       "2  Le projet Ô Maarif s’inscrit dans une volonté ...  \n",
       "3  Votre nid familial en plein centre de Casablan...  \n",
       "4  Une réussite architecturale au cœur d'un quart...  "
      ]
     },
     "execution_count": 149,
     "metadata": {},
     "output_type": "execute_result"
    }
   ],
   "source": [
    "df.head()"
   ]
  },
  {
   "cell_type": "code",
   "execution_count": 150,
   "id": "92e22ab9",
   "metadata": {},
   "outputs": [
    {
     "data": {
      "text/plain": [
       "Index(['titre', 'lien', 'date_pub', 'place', 'prix_partir', 'prix_m',\n",
       "       'standing', 'description'],\n",
       "      dtype='object')"
      ]
     },
     "execution_count": 150,
     "metadata": {},
     "output_type": "execute_result"
    }
   ],
   "source": [
    "df.columns#afficher les colonnes"
   ]
  },
  {
   "cell_type": "code",
   "execution_count": 151,
   "id": "808ca601",
   "metadata": {},
   "outputs": [
    {
     "name": "stdout",
     "output_type": "stream",
     "text": [
      "<class 'pandas.core.frame.DataFrame'>\n",
      "RangeIndex: 152 entries, 0 to 151\n",
      "Data columns (total 8 columns):\n",
      " #   Column       Non-Null Count  Dtype \n",
      "---  ------       --------------  ----- \n",
      " 0   titre        152 non-null    object\n",
      " 1   lien         152 non-null    object\n",
      " 2   date_pub     152 non-null    object\n",
      " 3   place        152 non-null    object\n",
      " 4   prix_partir  152 non-null    object\n",
      " 5   prix_m       152 non-null    object\n",
      " 6   standing     152 non-null    object\n",
      " 7   description  152 non-null    object\n",
      "dtypes: object(8)\n",
      "memory usage: 9.6+ KB\n"
     ]
    }
   ],
   "source": [
    "#voir les informations\n",
    "df.info()"
   ]
  },
  {
   "cell_type": "code",
   "execution_count": 152,
   "id": "5cd29453",
   "metadata": {},
   "outputs": [
    {
     "data": {
      "text/plain": [
       "0                                    Résidence Eglantine\n",
       "1                       Shems Al Madina - Lots de Villas\n",
       "2      Ô Mâarif, votre investissement au centre de Ca...\n",
       "3                                        Famille D'amour\n",
       "4                                    Résidence Duo Verde\n",
       "                             ...                        \n",
       "147                                         Gloria Beach\n",
       "148                                         Projet IKRAM\n",
       "149                                         Norway Amira\n",
       "150                                       Bougainvillier\n",
       "151                               Villa Estrilla Cherrat\n",
       "Name: titre, Length: 152, dtype: object"
      ]
     },
     "execution_count": 152,
     "metadata": {},
     "output_type": "execute_result"
    }
   ],
   "source": [
    "df['titre']"
   ]
  },
  {
   "cell_type": "code",
   "execution_count": 153,
   "id": "16c230bd",
   "metadata": {},
   "outputs": [
    {
     "data": {
      "text/plain": [
       "0      Publié il y a 5 mois\n",
       "1      Publié il y a 5 mois\n",
       "2      Publié il y a 5 mois\n",
       "3      Publié il y a 5 mois\n",
       "4      Publié il y a 5 mois\n",
       "               ...         \n",
       "147    Publié il y a 2 mois\n",
       "148    Publié il y a 2 mois\n",
       "149    Publié il y a 2 mois\n",
       "150    Publié il y a 2 mois\n",
       "151    Publié il y a 2 mois\n",
       "Name: date_pub, Length: 152, dtype: object"
      ]
     },
     "execution_count": 153,
     "metadata": {},
     "output_type": "execute_result"
    }
   ],
   "source": [
    "df['date_pub']"
   ]
  },
  {
   "cell_type": "code",
   "execution_count": 154,
   "id": "ba4a9649",
   "metadata": {},
   "outputs": [
    {
     "data": {
      "text/plain": [
       "0      Publié il y a 5 mois\n",
       "1      Publié il y a 5 mois\n",
       "2      Publié il y a 5 mois\n",
       "3      Publié il y a 5 mois\n",
       "4      Publié il y a 5 mois\n",
       "               ...         \n",
       "147    Publié il y a 2 mois\n",
       "148    Publié il y a 2 mois\n",
       "149    Publié il y a 2 mois\n",
       "150    Publié il y a 2 mois\n",
       "151    Publié il y a 2 mois\n",
       "Name: date_pub, Length: 152, dtype: object"
      ]
     },
     "execution_count": 154,
     "metadata": {},
     "output_type": "execute_result"
    }
   ],
   "source": [
    "df['date_pub']=df['date_pub'].replace('Publié il y a plus de ','',regex=True)\n",
    "df['date_pub']"
   ]
  },
  {
   "cell_type": "code",
   "execution_count": 155,
   "id": "59b645f3",
   "metadata": {},
   "outputs": [
    {
     "data": {
      "text/plain": [
       "0      Publié il y a 5 \n",
       "1      Publié il y a 5 \n",
       "2      Publié il y a 5 \n",
       "3      Publié il y a 5 \n",
       "4      Publié il y a 5 \n",
       "             ...       \n",
       "147    Publié il y a 2 \n",
       "148    Publié il y a 2 \n",
       "149    Publié il y a 2 \n",
       "150    Publié il y a 2 \n",
       "151    Publié il y a 2 \n",
       "Name: date_pub, Length: 152, dtype: object"
      ]
     },
     "execution_count": 155,
     "metadata": {},
     "output_type": "execute_result"
    }
   ],
   "source": [
    "df['date_pub']=df['date_pub'].replace('mois','',regex=True)\n",
    "df['date_pub']"
   ]
  },
  {
   "cell_type": "code",
   "execution_count": 156,
   "id": "0547b634",
   "metadata": {},
   "outputs": [
    {
     "data": {
      "text/plain": [
       "array(['Publié il y a 5 ', '6 ', 'Publié il y a 2 '], dtype=object)"
      ]
     },
     "execution_count": 156,
     "metadata": {},
     "output_type": "execute_result"
    }
   ],
   "source": [
    "df['date_pub'].unique()"
   ]
  },
  {
   "cell_type": "code",
   "execution_count": 157,
   "id": "2f9e7b7f",
   "metadata": {},
   "outputs": [],
   "source": [
    "df['date_pub']=df['date_pub'].replace('Publié il y a ','',regex=True)"
   ]
  },
  {
   "cell_type": "code",
   "execution_count": 158,
   "id": "78b43e9b",
   "metadata": {},
   "outputs": [
    {
     "data": {
      "text/plain": [
       "6     90\n",
       "2     32\n",
       "5     30\n",
       "Name: date_pub, dtype: int64"
      ]
     },
     "execution_count": 158,
     "metadata": {},
     "output_type": "execute_result"
    }
   ],
   "source": [
    "df['date_pub'].value_counts()"
   ]
  },
  {
   "cell_type": "code",
   "execution_count": 159,
   "id": "381d3dc9",
   "metadata": {},
   "outputs": [
    {
     "name": "stdout",
     "output_type": "stream",
     "text": [
      "<class 'pandas.core.frame.DataFrame'>\n",
      "RangeIndex: 152 entries, 0 to 151\n",
      "Data columns (total 8 columns):\n",
      " #   Column       Non-Null Count  Dtype \n",
      "---  ------       --------------  ----- \n",
      " 0   titre        152 non-null    object\n",
      " 1   lien         152 non-null    object\n",
      " 2   date_pub     152 non-null    object\n",
      " 3   place        152 non-null    object\n",
      " 4   prix_partir  152 non-null    object\n",
      " 5   prix_m       152 non-null    object\n",
      " 6   standing     152 non-null    object\n",
      " 7   description  152 non-null    object\n",
      "dtypes: object(8)\n",
      "memory usage: 9.6+ KB\n"
     ]
    }
   ],
   "source": [
    "df.info()"
   ]
  },
  {
   "cell_type": "code",
   "execution_count": 160,
   "id": "aac538a4",
   "metadata": {},
   "outputs": [
    {
     "name": "stdout",
     "output_type": "stream",
     "text": [
      "<class 'pandas.core.frame.DataFrame'>\n",
      "RangeIndex: 152 entries, 0 to 151\n",
      "Data columns (total 8 columns):\n",
      " #   Column       Non-Null Count  Dtype \n",
      "---  ------       --------------  ----- \n",
      " 0   titre        152 non-null    object\n",
      " 1   lien         152 non-null    object\n",
      " 2   date_pub     152 non-null    int32 \n",
      " 3   place        152 non-null    object\n",
      " 4   prix_partir  152 non-null    object\n",
      " 5   prix_m       152 non-null    object\n",
      " 6   standing     152 non-null    object\n",
      " 7   description  152 non-null    object\n",
      "dtypes: int32(1), object(7)\n",
      "memory usage: 9.0+ KB\n"
     ]
    }
   ],
   "source": [
    "df['date_pub']=df['date_pub'].astype(int)\n",
    "df.info()"
   ]
  },
  {
   "cell_type": "code",
   "execution_count": 161,
   "id": "49c0887c",
   "metadata": {},
   "outputs": [
    {
     "data": {
      "text/plain": [
       "0                   Oasis à Casablanca\n",
       "1      Golf de Benslimane à Benslimane\n",
       "2                  Maârif à Casablanca\n",
       "3         Bourgogne Ouest à Casablanca\n",
       "4                   Oasis à Casablanca\n",
       "                    ...               \n",
       "147                         Sidi Rahal\n",
       "148                           Médiouna\n",
       "149             Aïn Sebaâ à Casablanca\n",
       "150            Tenoukchet à Mohammedia\n",
       "151      Plage Oued Cherrat à Bouznika\n",
       "Name: place, Length: 152, dtype: object"
      ]
     },
     "execution_count": 161,
     "metadata": {},
     "output_type": "execute_result"
    }
   ],
   "source": [
    "df['place']"
   ]
  },
  {
   "cell_type": "code",
   "execution_count": 162,
   "id": "ca4c3add",
   "metadata": {},
   "outputs": [],
   "source": [
    "#split 'à' ex Hay Dakhla à Agadir (place)= bernousi(secteur)+casa(ville)\n",
    "df=df.reset_index(drop=True)\n",
    "for i ,row in df.iterrows():\n",
    "    sctr=str(row['place'])\n",
    "    if('à' in sctr):\n",
    "        sctr2=sctr.split('à')\n",
    "        df.at[i,'secteur']=sctr2[0]\n",
    "        df.at[i,'ville']=sctr2[1]\n",
    "    else :\n",
    "        df.at[i,'ville']=sctr"
   ]
  },
  {
   "cell_type": "code",
   "execution_count": 163,
   "id": "3bd99e6b",
   "metadata": {},
   "outputs": [
    {
     "data": {
      "text/plain": [
       "0                   Oasis \n",
       "1      Golf de Benslimane \n",
       "2                  Maârif \n",
       "3         Bourgogne Ouest \n",
       "4                   Oasis \n",
       "              ...         \n",
       "147                    NaN\n",
       "148                    NaN\n",
       "149             Aïn Sebaâ \n",
       "150            Tenoukchet \n",
       "151    Plage Oued Cherrat \n",
       "Name: secteur, Length: 152, dtype: object"
      ]
     },
     "execution_count": 163,
     "metadata": {},
     "output_type": "execute_result"
    }
   ],
   "source": [
    "df['secteur']"
   ]
  },
  {
   "cell_type": "code",
   "execution_count": 164,
   "id": "26460140",
   "metadata": {},
   "outputs": [
    {
     "data": {
      "text/plain": [
       "0       Casablanca\n",
       "1       Benslimane\n",
       "2       Casablanca\n",
       "3       Casablanca\n",
       "4       Casablanca\n",
       "          ...     \n",
       "147     Sidi Rahal\n",
       "148       Médiouna\n",
       "149     Casablanca\n",
       "150     Mohammedia\n",
       "151       Bouznika\n",
       "Name: ville, Length: 152, dtype: object"
      ]
     },
     "execution_count": 164,
     "metadata": {},
     "output_type": "execute_result"
    }
   ],
   "source": [
    "df['ville']"
   ]
  },
  {
   "cell_type": "code",
   "execution_count": 165,
   "id": "1f80f54e",
   "metadata": {},
   "outputs": [
    {
     "data": {
      "text/plain": [
       "Oasis                           11\n",
       "Californie                      11\n",
       "Aïn Sebaâ                        7\n",
       "Plage Oued Cherrat               7\n",
       "Golf de Benslimane               6\n",
       "Quartier du Parc                 5\n",
       "Casablanca Finance City          4\n",
       "Maârif Extension                 3\n",
       "City Dar Es Salaam               3\n",
       "Hay Hassani                      3\n",
       "Centre Ville                     3\n",
       "Bernoussi                        2\n",
       "Entrée Sud                       2\n",
       "Ain Borja                        2\n",
       "Administratif                    2\n",
       "Les Hôpitaux                     2\n",
       "Bourgogne Ouest                  2\n",
       "Roches Noires                    2\n",
       "Oulfa                            1\n",
       "Hay Moulay Rachid 1              1\n",
       "Sidi Abdelkarim                  1\n",
       "Ferme Bretonne (Hay Arraha)      1\n",
       "Benjdia                          1\n",
       "Hay salam                        1\n",
       "Les princesses                   1\n",
       "Lissasfa                         1\n",
       "Ain Chock                        1\n",
       "Mannesmann                       1\n",
       "Anfa                             1\n",
       "Hay Toummert                     1\n",
       "Riad Essalam                     1\n",
       "Les Cretes                       1\n",
       "Mandarona                        1\n",
       "Val Fleury                       1\n",
       "Franceville                      1\n",
       "Ahl Loghlam (Hay Assalam)        1\n",
       "Maârif                           1\n",
       "Tenoukchet                       1\n",
       "Name: secteur, dtype: int64"
      ]
     },
     "execution_count": 165,
     "metadata": {},
     "output_type": "execute_result"
    }
   ],
   "source": [
    "df['secteur'].value_counts()"
   ]
  },
  {
   "cell_type": "code",
   "execution_count": 166,
   "id": "7141de00",
   "metadata": {},
   "outputs": [
    {
     "data": {
      "text/plain": [
       "array(['Oasis ', 'Golf de Benslimane ', 'Maârif ', 'Bourgogne Ouest ',\n",
       "       'Plage Oued Cherrat ', nan, 'Centre Ville ', 'Californie ',\n",
       "       'Quartier du Parc ', 'Ahl Loghlam (Hay Assalam) ',\n",
       "       'Administratif ', 'Aïn Sebaâ ', 'Casablanca Finance City ',\n",
       "       'Maârif Extension ', 'City Dar Es Salaam ', 'Les Hôpitaux ',\n",
       "       'Franceville ', 'Bernoussi ', 'Val Fleury ', 'Roches Noires ',\n",
       "       'Mannesmann ', 'Mandarona ', 'Les Cretes ', 'Riad Essalam ',\n",
       "       'Hay Toummert ', 'Anfa ', 'Entrée Sud ', 'Hay Hassani ',\n",
       "       'Hay Moulay Rachid 1 ', 'Ain Chock ', 'Lissasfa ',\n",
       "       'Les princesses ', 'Hay salam ', 'Benjdia ', 'Ain Borja ',\n",
       "       'Oulfa ', 'Sidi Abdelkarim ', 'Ferme Bretonne (Hay Arraha) ',\n",
       "       'Tenoukchet '], dtype=object)"
      ]
     },
     "execution_count": 166,
     "metadata": {},
     "output_type": "execute_result"
    }
   ],
   "source": [
    "df['secteur'].unique()"
   ]
  },
  {
   "cell_type": "code",
   "execution_count": 167,
   "id": "b9e83b36",
   "metadata": {},
   "outputs": [],
   "source": [
    "# Remplacer les valeurs manquantes par un champ ou supprimer les valeur manquantes par dropna\n",
    "df['secteur'].fillna('sans', inplace=True)\n",
    "#df=df.dropna(subset=['secteur'])"
   ]
  },
  {
   "cell_type": "code",
   "execution_count": 168,
   "id": "e6682b54",
   "metadata": {},
   "outputs": [
    {
     "data": {
      "text/plain": [
       "0                   Oasis \n",
       "1      Golf de Benslimane \n",
       "2                  Maârif \n",
       "3         Bourgogne Ouest \n",
       "4                   Oasis \n",
       "              ...         \n",
       "147                   sans\n",
       "148                   sans\n",
       "149             Aïn Sebaâ \n",
       "150            Tenoukchet \n",
       "151    Plage Oued Cherrat \n",
       "Name: secteur, Length: 152, dtype: object"
      ]
     },
     "execution_count": 168,
     "metadata": {},
     "output_type": "execute_result"
    }
   ],
   "source": [
    "df['secteur']"
   ]
  },
  {
   "cell_type": "code",
   "execution_count": 169,
   "id": "7787766f",
   "metadata": {},
   "outputs": [
    {
     "data": {
      "text/plain": [
       "False"
      ]
     },
     "execution_count": 169,
     "metadata": {},
     "output_type": "execute_result"
    }
   ],
   "source": [
    "df.isnull().sum().any()"
   ]
  },
  {
   "cell_type": "code",
   "execution_count": 170,
   "id": "fcca4ece",
   "metadata": {},
   "outputs": [
    {
     "name": "stdout",
     "output_type": "stream",
     "text": [
      "<class 'pandas.core.frame.DataFrame'>\n",
      "RangeIndex: 152 entries, 0 to 151\n",
      "Data columns (total 10 columns):\n",
      " #   Column       Non-Null Count  Dtype \n",
      "---  ------       --------------  ----- \n",
      " 0   titre        152 non-null    object\n",
      " 1   lien         152 non-null    object\n",
      " 2   date_pub     152 non-null    int32 \n",
      " 3   place        152 non-null    object\n",
      " 4   prix_partir  152 non-null    object\n",
      " 5   prix_m       152 non-null    object\n",
      " 6   standing     152 non-null    object\n",
      " 7   description  152 non-null    object\n",
      " 8   secteur      152 non-null    object\n",
      " 9   ville        152 non-null    object\n",
      "dtypes: int32(1), object(9)\n",
      "memory usage: 11.4+ KB\n"
     ]
    }
   ],
   "source": [
    "df.info()"
   ]
  },
  {
   "cell_type": "code",
   "execution_count": 171,
   "id": "902d2009",
   "metadata": {},
   "outputs": [
    {
     "data": {
      "text/plain": [
       "0      À partir de 1 462 000 DH\n",
       "1        À partir de 475 000 DH\n",
       "2      À partir de 1 699 000 DH\n",
       "3              Prix à consulter\n",
       "4      À partir de 1 308 000 DH\n",
       "                 ...           \n",
       "147      À partir de 690 000 DH\n",
       "148      À partir de 230 000 DH\n",
       "149      À partir de 780 000 DH\n",
       "150      À partir de 690 000 DH\n",
       "151    À partir de 4 500 000 DH\n",
       "Name: prix_partir, Length: 152, dtype: object"
      ]
     },
     "execution_count": 171,
     "metadata": {},
     "output_type": "execute_result"
    }
   ],
   "source": [
    "df['prix_partir']"
   ]
  },
  {
   "cell_type": "code",
   "execution_count": 172,
   "id": "243e0f52",
   "metadata": {},
   "outputs": [
    {
     "data": {
      "text/plain": [
       "0          1 462 000 DH\n",
       "1            475 000 DH\n",
       "2          1 699 000 DH\n",
       "3      Prix à consulter\n",
       "4          1 308 000 DH\n",
       "             ...       \n",
       "147          690 000 DH\n",
       "148          230 000 DH\n",
       "149          780 000 DH\n",
       "150          690 000 DH\n",
       "151        4 500 000 DH\n",
       "Name: prix_partir, Length: 152, dtype: object"
      ]
     },
     "execution_count": 172,
     "metadata": {},
     "output_type": "execute_result"
    }
   ],
   "source": [
    "df['prix_partir']=df['prix_partir'].replace('À partir de ','',regex=True)\n",
    "df['prix_partir']"
   ]
  },
  {
   "cell_type": "code",
   "execution_count": 173,
   "id": "9d51e6af",
   "metadata": {},
   "outputs": [
    {
     "data": {
      "text/plain": [
       "array(['1 462 000 DH', '475 000 DH', '1 699 000 DH', 'Prix à consulter',\n",
       "       '1 308 000 DH', '1 850 000 DH', '750 000 DH', '756 000 DH',\n",
       "       '1 070 000 DH', '802 105 DH', '540 000 DH', '250 000 DH',\n",
       "       '1 625 000 DH', '1 230 000 DH', '790 000 DH', '716 000 DH',\n",
       "       '978 500 DH', '1 357 000 DH', '3 980 000 DH', '773 000 DH',\n",
       "       '1 789 000 DH', '519 303 DH', '1 960 000 DH', '519 000 DH',\n",
       "       '850 000 DH', '1 350 000 DH', '1 200 000 DH', '690 000 DH',\n",
       "       '960 000 DH', '890 000 DH', '220 000 DH', '950 000 DH',\n",
       "       '3 500 000 DH', '1 486 000 DH', '899 000 DH', '860 000 DH',\n",
       "       '848 000 DH', '500 000 DH', '720 000 DH', '660 000 DH',\n",
       "       '1 857 380 DH', '1 000 000 DH', '823 000 DH', '1 600 000 DH',\n",
       "       '1 420 000 DH', '1 541 000 DH', '2 900 000 DH', '680 000 DH',\n",
       "       '1 690 000 DH', '770 000 DH', '1 884 080 DH', '2 800 000 DH',\n",
       "       '1 848 000 DH', '3 420 000 DH', '1 820 000 DH', '840 000 DH',\n",
       "       '4 100 000 DH', '695 500 DH', '1 255 500 DH', '700 000 DH',\n",
       "       '240 000 DH', '403 000 DH', '640 800 DH', '2 500 000 DH',\n",
       "       '1 055 000 DH', '1 137 000 DH', '440 000 DH', '970 000 DH',\n",
       "       '810 000 DH', '550 000 DH', '3 800 000 DH', '858 000 DH',\n",
       "       '180 000 DH', '448 500 DH', '1 500 000 DH', '270 000 DH',\n",
       "       '570 000 DH', '2 150 000 DH', '1 501 000 DH', '415 000 DH',\n",
       "       '725 000 DH', '420 000 DH', '3 400 000 DH', '322 000 DH',\n",
       "       '2 006 000 DH', '920 000 DH', '650 000 DH', '1 750 000 DH',\n",
       "       '1 620 000 DH', '190 000 DH', '230 000 DH', '780 000 DH',\n",
       "       '4 500 000 DH'], dtype=object)"
      ]
     },
     "execution_count": 173,
     "metadata": {},
     "output_type": "execute_result"
    }
   ],
   "source": [
    "df['prix_partir'].unique()"
   ]
  },
  {
   "cell_type": "code",
   "execution_count": 174,
   "id": "76291f1e",
   "metadata": {},
   "outputs": [
    {
     "name": "stdout",
     "output_type": "stream",
     "text": [
      "135\n"
     ]
    }
   ],
   "source": [
    "df=df.reset_index(drop=True)\n",
    "c=0\n",
    "for i ,rw in df.iterrows():\n",
    "    pr=str(rw['prix_partir'])\n",
    "    if('DH' in pr):\n",
    "        c += 1\n",
    "print(c)"
   ]
  },
  {
   "cell_type": "code",
   "execution_count": 175,
   "id": "15abf31d",
   "metadata": {},
   "outputs": [
    {
     "data": {
      "text/plain": [
       "0      False\n",
       "1      False\n",
       "2      False\n",
       "3       True\n",
       "4      False\n",
       "       ...  \n",
       "147    False\n",
       "148    False\n",
       "149    False\n",
       "150    False\n",
       "151    False\n",
       "Name: prix_partir, Length: 152, dtype: bool"
      ]
     },
     "execution_count": 175,
     "metadata": {},
     "output_type": "execute_result"
    }
   ],
   "source": [
    "df['prix_partir']=='Prix à consulter'"
   ]
  },
  {
   "cell_type": "code",
   "execution_count": 176,
   "id": "903aaed5",
   "metadata": {},
   "outputs": [
    {
     "data": {
      "text/plain": [
       "array(['1 462 000 DH', '475 000 DH', '1 699 000 DH', '1 308 000 DH',\n",
       "       '1 850 000 DH', '750 000 DH', '756 000 DH', '1 070 000 DH',\n",
       "       '802 105 DH', '540 000 DH', '250 000 DH', '1 625 000 DH',\n",
       "       '1 230 000 DH', '790 000 DH', '716 000 DH', '978 500 DH',\n",
       "       '1 357 000 DH', '3 980 000 DH', '773 000 DH', '1 789 000 DH',\n",
       "       '519 303 DH', '1 960 000 DH', '519 000 DH', '850 000 DH',\n",
       "       '1 350 000 DH', '1 200 000 DH', '690 000 DH', '960 000 DH',\n",
       "       '890 000 DH', '220 000 DH', '950 000 DH', '3 500 000 DH',\n",
       "       '1 486 000 DH', '899 000 DH', '860 000 DH', '848 000 DH',\n",
       "       '500 000 DH', '720 000 DH', '660 000 DH', '1 857 380 DH',\n",
       "       '1 000 000 DH', '823 000 DH', '1 600 000 DH', '1 420 000 DH',\n",
       "       '1 541 000 DH', '2 900 000 DH', '680 000 DH', '1 690 000 DH',\n",
       "       '770 000 DH', '1 884 080 DH', '2 800 000 DH', '1 848 000 DH',\n",
       "       '3 420 000 DH', '1 820 000 DH', '840 000 DH', '4 100 000 DH',\n",
       "       '695 500 DH', '1 255 500 DH', '700 000 DH', '240 000 DH',\n",
       "       '403 000 DH', '640 800 DH', '2 500 000 DH', '1 055 000 DH',\n",
       "       '1 137 000 DH', '440 000 DH', '970 000 DH', '810 000 DH',\n",
       "       '550 000 DH', '3 800 000 DH', '858 000 DH', '180 000 DH',\n",
       "       '448 500 DH', '1 500 000 DH', '270 000 DH', '570 000 DH',\n",
       "       '2 150 000 DH', '1 501 000 DH', '415 000 DH', '725 000 DH',\n",
       "       '420 000 DH', '3 400 000 DH', '322 000 DH', '2 006 000 DH',\n",
       "       '920 000 DH', '650 000 DH', '1 750 000 DH', '1 620 000 DH',\n",
       "       '190 000 DH', '230 000 DH', '780 000 DH', '4 500 000 DH'],\n",
       "      dtype=object)"
      ]
     },
     "execution_count": 176,
     "metadata": {},
     "output_type": "execute_result"
    }
   ],
   "source": [
    "df.drop(df.loc[df['prix_partir']=='Prix à consulter'].index, inplace=True)\n",
    "df['prix_partir'].unique()"
   ]
  },
  {
   "cell_type": "code",
   "execution_count": 177,
   "id": "589ff1e3",
   "metadata": {},
   "outputs": [
    {
     "name": "stdout",
     "output_type": "stream",
     "text": [
      "135\n"
     ]
    }
   ],
   "source": [
    "df=df.reset_index(drop=True)\n",
    "maxx=0\n",
    "for i ,row in df.iterrows():\n",
    "    sctr=str(row['prix_partir'])\n",
    "    if('DH' in sctr):\n",
    "        df.at[i,'prix_partir']=int(''.join(filter(str.isdigit,sctr)))*1\n",
    "        maxx += 1\n",
    "    else :\n",
    "        df.at[i,'prix_partir']=int(''.join(filter(str.isdigit,sctr)))\n",
    "print(maxx)"
   ]
  },
  {
   "cell_type": "code",
   "execution_count": 178,
   "id": "c0a3cbe8",
   "metadata": {},
   "outputs": [
    {
     "data": {
      "text/plain": [
       "array([1462000, 475000, 1699000, 1308000, 1850000, 750000, 756000,\n",
       "       1070000, 802105, 540000, 250000, 1625000, 1230000, 790000, 716000,\n",
       "       978500, 1357000, 3980000, 773000, 1789000, 519303, 1960000, 519000,\n",
       "       850000, 1350000, 1200000, 690000, 960000, 890000, 220000, 950000,\n",
       "       3500000, 1486000, 899000, 860000, 848000, 500000, 720000, 660000,\n",
       "       1857380, 1000000, 823000, 1600000, 1420000, 1541000, 2900000,\n",
       "       680000, 1690000, 770000, 1884080, 2800000, 1848000, 3420000,\n",
       "       1820000, 840000, 4100000, 695500, 1255500, 700000, 240000, 403000,\n",
       "       640800, 2500000, 1055000, 1137000, 440000, 970000, 810000, 550000,\n",
       "       3800000, 858000, 180000, 448500, 1500000, 270000, 570000, 2150000,\n",
       "       1501000, 415000, 725000, 420000, 3400000, 322000, 2006000, 920000,\n",
       "       650000, 1750000, 1620000, 190000, 230000, 780000, 4500000],\n",
       "      dtype=object)"
      ]
     },
     "execution_count": 178,
     "metadata": {},
     "output_type": "execute_result"
    }
   ],
   "source": [
    "df['prix_partir'].unique()"
   ]
  },
  {
   "cell_type": "code",
   "execution_count": 179,
   "id": "45789ff4",
   "metadata": {},
   "outputs": [],
   "source": [
    "df['prix_partir']=df['prix_partir'].astype(int)"
   ]
  },
  {
   "cell_type": "code",
   "execution_count": 180,
   "id": "b66cd1ea",
   "metadata": {},
   "outputs": [
    {
     "name": "stdout",
     "output_type": "stream",
     "text": [
      "<class 'pandas.core.frame.DataFrame'>\n",
      "RangeIndex: 135 entries, 0 to 134\n",
      "Data columns (total 10 columns):\n",
      " #   Column       Non-Null Count  Dtype \n",
      "---  ------       --------------  ----- \n",
      " 0   titre        135 non-null    object\n",
      " 1   lien         135 non-null    object\n",
      " 2   date_pub     135 non-null    int32 \n",
      " 3   place        135 non-null    object\n",
      " 4   prix_partir  135 non-null    int32 \n",
      " 5   prix_m       135 non-null    object\n",
      " 6   standing     135 non-null    object\n",
      " 7   description  135 non-null    object\n",
      " 8   secteur      135 non-null    object\n",
      " 9   ville        135 non-null    object\n",
      "dtypes: int32(2), object(8)\n",
      "memory usage: 9.6+ KB\n"
     ]
    }
   ],
   "source": [
    "df.info()"
   ]
  },
  {
   "cell_type": "code",
   "execution_count": 181,
   "id": "8f6aadff",
   "metadata": {},
   "outputs": [
    {
     "data": {
      "text/plain": [
       "titre          0\n",
       "lien           0\n",
       "date_pub       0\n",
       "place          0\n",
       "prix_partir    0\n",
       "prix_m         0\n",
       "standing       0\n",
       "description    0\n",
       "secteur        0\n",
       "ville          0\n",
       "dtype: int64"
      ]
     },
     "execution_count": 181,
     "metadata": {},
     "output_type": "execute_result"
    }
   ],
   "source": [
    "df.isnull().sum()"
   ]
  },
  {
   "cell_type": "code",
   "execution_count": 182,
   "id": "55b1717b",
   "metadata": {},
   "outputs": [
    {
     "data": {
      "text/plain": [
       "0         Not found!\n",
       "1       2 500DH / m²\n",
       "2         Not found!\n",
       "3         Not found!\n",
       "4         Not found!\n",
       "           ...      \n",
       "130     9 500DH / m²\n",
       "131       Not found!\n",
       "132    10 000DH / m²\n",
       "133       Not found!\n",
       "134    12 500DH / m²\n",
       "Name: prix_m, Length: 135, dtype: object"
      ]
     },
     "execution_count": 182,
     "metadata": {},
     "output_type": "execute_result"
    }
   ],
   "source": [
    "df['prix_m']"
   ]
  },
  {
   "cell_type": "code",
   "execution_count": 183,
   "id": "37cae3a4",
   "metadata": {},
   "outputs": [
    {
     "data": {
      "text/plain": [
       "array(['2 500DH / m²', '13 500DH / m²', '10 000DH / m²', '11 500DH / m²',\n",
       "       '17 500DH / m²', '4 900DH / m²', '14 500DH / m²', '12 000DH / m²',\n",
       "       '22 500DH / m²', '18 000DH / m²', '5 500DH / m²', '5 700DH / m²',\n",
       "       '13 000DH / m²', '15 500DH / m²', '11 000DH / m²', '8 900DH / m²',\n",
       "       '11 250DH / m²', '5 000DH / m²', '9 500DH / m²', '16 000DH / m²',\n",
       "       '8 000DH / m²', '14 000DH / m²', '7 500DH / m²', '3 700DH / m²',\n",
       "       '17 000DH / m²', '9 000DH / m²', '4 200DH / m²', '18 500DH / m²',\n",
       "       '12 500DH / m²'], dtype=object)"
      ]
     },
     "execution_count": 183,
     "metadata": {},
     "output_type": "execute_result"
    }
   ],
   "source": [
    "df.drop(df.loc[df['prix_m']=='Not found!'].index, inplace=True)\n",
    "df['prix_m'].unique()"
   ]
  },
  {
   "cell_type": "code",
   "execution_count": 184,
   "id": "9a65082a",
   "metadata": {},
   "outputs": [
    {
     "data": {
      "text/plain": [
       "1       2 500\n",
       "6      13 500\n",
       "13     10 000\n",
       "17     11 500\n",
       "20     17 500\n",
       "22      4 900\n",
       "26     14 500\n",
       "28     12 000\n",
       "36     22 500\n",
       "40     17 500\n",
       "42      2 500\n",
       "43     18 000\n",
       "47      5 500\n",
       "54     17 500\n",
       "65     11 500\n",
       "75     12 000\n",
       "77      5 700\n",
       "78     13 000\n",
       "82     15 500\n",
       "83     10 000\n",
       "85     11 000\n",
       "88      8 900\n",
       "90     10 000\n",
       "92     11 250\n",
       "93     12 000\n",
       "94      5 000\n",
       "100     5 700\n",
       "103     9 500\n",
       "105    16 000\n",
       "107     8 000\n",
       "108    11 250\n",
       "110    13 000\n",
       "111    10 000\n",
       "113    16 000\n",
       "116    14 000\n",
       "117     7 500\n",
       "119     3 700\n",
       "120    17 000\n",
       "124     9 000\n",
       "126     4 200\n",
       "127    18 500\n",
       "129    18 500\n",
       "130     9 500\n",
       "132    10 000\n",
       "134    12 500\n",
       "Name: prix_m, dtype: object"
      ]
     },
     "execution_count": 184,
     "metadata": {},
     "output_type": "execute_result"
    }
   ],
   "source": [
    "df['prix_m']=df['prix_m'].replace('DH / m²','',regex=True)\n",
    "df['prix_m']"
   ]
  },
  {
   "cell_type": "code",
   "execution_count": 185,
   "id": "1f2cc5cb",
   "metadata": {},
   "outputs": [
    {
     "data": {
      "text/plain": [
       "array(['2 500', '13 500', '10 000', '11 500', '17 500', '4 900', '14 500',\n",
       "       '12 000', '22 500', '18 000', '5 500', '5 700', '13 000', '15 500',\n",
       "       '11 000', '8 900', '11 250', '5 000', '9 500', '16 000', '8 000',\n",
       "       '14 000', '7 500', '3 700', '17 000', '9 000', '4 200', '18 500',\n",
       "       '12 500'], dtype=object)"
      ]
     },
     "execution_count": 185,
     "metadata": {},
     "output_type": "execute_result"
    }
   ],
   "source": [
    "df['prix_m'].unique()"
   ]
  },
  {
   "cell_type": "code",
   "execution_count": 186,
   "id": "b5963d0e",
   "metadata": {},
   "outputs": [
    {
     "name": "stdout",
     "output_type": "stream",
     "text": [
      "0\n"
     ]
    }
   ],
   "source": [
    "df=df.reset_index(drop=True)\n",
    "maxx=0\n",
    "for i ,row in df.iterrows():\n",
    "    sctr=str(row['prix_m'])\n",
    "    if('DH' in sctr):\n",
    "        df.at[i,'prix_m']=int(''.join(filter(str.isdigit,sctr)))*1\n",
    "        maxx += 1\n",
    "    else :\n",
    "        df.at[i,'prix_m']=int(''.join(filter(str.isdigit,sctr)))\n",
    "print(maxx)"
   ]
  },
  {
   "cell_type": "code",
   "execution_count": 187,
   "id": "046e430a",
   "metadata": {},
   "outputs": [
    {
     "data": {
      "text/plain": [
       "array([2500, 13500, 10000, 11500, 17500, 4900, 14500, 12000, 22500, 18000,\n",
       "       5500, 5700, 13000, 15500, 11000, 8900, 11250, 5000, 9500, 16000,\n",
       "       8000, 14000, 7500, 3700, 17000, 9000, 4200, 18500, 12500],\n",
       "      dtype=object)"
      ]
     },
     "execution_count": 187,
     "metadata": {},
     "output_type": "execute_result"
    }
   ],
   "source": [
    "df['prix_m'].unique()"
   ]
  },
  {
   "cell_type": "code",
   "execution_count": 188,
   "id": "01e5d449",
   "metadata": {},
   "outputs": [],
   "source": [
    "df['prix_m']=df['prix_m'].astype(int)"
   ]
  },
  {
   "cell_type": "code",
   "execution_count": 189,
   "id": "3e14f279",
   "metadata": {},
   "outputs": [
    {
     "data": {
      "text/plain": [
       "10000    5\n",
       "17500    3\n",
       "12000    3\n",
       "2500     2\n",
       "9500     2\n",
       "11250    2\n",
       "13000    2\n",
       "5700     2\n",
       "16000    2\n",
       "18500    2\n",
       "11500    2\n",
       "9000     1\n",
       "3700     1\n",
       "4200     1\n",
       "7500     1\n",
       "14000    1\n",
       "8000     1\n",
       "17000    1\n",
       "11000    1\n",
       "5000     1\n",
       "8900     1\n",
       "13500    1\n",
       "15500    1\n",
       "5500     1\n",
       "18000    1\n",
       "22500    1\n",
       "14500    1\n",
       "4900     1\n",
       "12500    1\n",
       "Name: prix_m, dtype: int64"
      ]
     },
     "execution_count": 189,
     "metadata": {},
     "output_type": "execute_result"
    }
   ],
   "source": [
    "df['prix_m'].value_counts()"
   ]
  },
  {
   "cell_type": "code",
   "execution_count": 190,
   "id": "d9c6beed",
   "metadata": {},
   "outputs": [
    {
     "name": "stdout",
     "output_type": "stream",
     "text": [
      "<class 'pandas.core.frame.DataFrame'>\n",
      "RangeIndex: 45 entries, 0 to 44\n",
      "Data columns (total 10 columns):\n",
      " #   Column       Non-Null Count  Dtype \n",
      "---  ------       --------------  ----- \n",
      " 0   titre        45 non-null     object\n",
      " 1   lien         45 non-null     object\n",
      " 2   date_pub     45 non-null     int32 \n",
      " 3   place        45 non-null     object\n",
      " 4   prix_partir  45 non-null     int32 \n",
      " 5   prix_m       45 non-null     int32 \n",
      " 6   standing     45 non-null     object\n",
      " 7   description  45 non-null     object\n",
      " 8   secteur      45 non-null     object\n",
      " 9   ville        45 non-null     object\n",
      "dtypes: int32(3), object(7)\n",
      "memory usage: 3.1+ KB\n"
     ]
    }
   ],
   "source": [
    "df.info()"
   ]
  },
  {
   "cell_type": "code",
   "execution_count": 111,
   "id": "18f6b5d7",
   "metadata": {},
   "outputs": [
    {
     "data": {
      "text/plain": [
       "array([\"['Haut standing', 'En cours de construction']\",\n",
       "       \"['Haut standing', 'Finalisé']\",\n",
       "       \"['Haut standing', 'En cours de construction', 'Livraison mars 2022']\",\n",
       "       \"['Haut standing', 'Finalisé', 'Livraison février 2021']\",\n",
       "       \"['Haut standing', 'En cours de construction', 'Livraison décembre 2021']\",\n",
       "       \"['Économique', 'Finalisé']\", \"['Finalisé']\",\n",
       "       \"['Haut standing', 'Finalisé', 'Livraison décembre 2018']\",\n",
       "       \"['Haut standing', 'Finalisé', 'Livraison janvier 2021']\",\n",
       "       \"['Moyen standing', 'Finalisé', 'Livraison décembre 2021']\",\n",
       "       \"['Haut standing', 'Finalisé', 'Livraison juillet 2021']\",\n",
       "       \"['Haut standing', 'Finalisé', 'Livraison mai 2019']\",\n",
       "       \"['Haut standing', 'En cours de construction', 'Livraison novembre 2022']\",\n",
       "       \"['Moyen standing', 'Finalisé', 'Livraison mars 2020']\",\n",
       "       \"['Finalisé', 'Livraison novembre 2018']\",\n",
       "       \"['Finalisé', 'Livraison septembre 2021']\",\n",
       "       \"['Haut standing', 'Finalisé', 'Livraison décembre 2021']\",\n",
       "       \"['Moyen standing', 'Finalisé']\"], dtype=object)"
      ]
     },
     "execution_count": 111,
     "metadata": {},
     "output_type": "execute_result"
    }
   ],
   "source": [
    "df['standing'].unique()"
   ]
  },
  {
   "cell_type": "code",
   "execution_count": 192,
   "id": "fbc085b1",
   "metadata": {},
   "outputs": [
    {
     "data": {
      "text/plain": [
       "0     False\n",
       "1     False\n",
       "2     False\n",
       "3     False\n",
       "4     False\n",
       "5     False\n",
       "6     False\n",
       "7     False\n",
       "8     False\n",
       "9     False\n",
       "10    False\n",
       "11    False\n",
       "12    False\n",
       "13    False\n",
       "14    False\n",
       "15    False\n",
       "16    False\n",
       "17    False\n",
       "18    False\n",
       "19    False\n",
       "20    False\n",
       "21    False\n",
       "22    False\n",
       "23    False\n",
       "24    False\n",
       "25    False\n",
       "26    False\n",
       "27    False\n",
       "28    False\n",
       "29    False\n",
       "30    False\n",
       "31    False\n",
       "32    False\n",
       "33    False\n",
       "34    False\n",
       "35    False\n",
       "36    False\n",
       "37    False\n",
       "38    False\n",
       "39    False\n",
       "40    False\n",
       "41    False\n",
       "42    False\n",
       "43    False\n",
       "44    False\n",
       "Name: standing, dtype: bool"
      ]
     },
     "execution_count": 192,
     "metadata": {},
     "output_type": "execute_result"
    }
   ],
   "source": [
    "x=(df['standing']=='Haut standing')\n",
    "x"
   ]
  },
  {
   "cell_type": "code",
   "execution_count": 66,
   "id": "f489a1f2",
   "metadata": {},
   "outputs": [
    {
     "ename": "SyntaxError",
     "evalue": "invalid syntax (Temp/ipykernel_1164/4068593552.py, line 10)",
     "output_type": "error",
     "traceback": [
      "\u001b[1;36m  File \u001b[1;32m\"C:\\Users\\sbaia\\AppData\\Local\\Temp/ipykernel_1164/4068593552.py\"\u001b[1;36m, line \u001b[1;32m10\u001b[0m\n\u001b[1;33m    else c=='Moyen standing':\u001b[0m\n\u001b[1;37m         ^\u001b[0m\n\u001b[1;31mSyntaxError\u001b[0m\u001b[1;31m:\u001b[0m invalid syntax\n"
     ]
    }
   ],
   "source": [
    "\n"
   ]
  },
  {
   "cell_type": "code",
   "execution_count": null,
   "id": "e40a3ec0",
   "metadata": {},
   "outputs": [],
   "source": []
  },
  {
   "cell_type": "code",
   "execution_count": 49,
   "id": "d5b19bac",
   "metadata": {},
   "outputs": [
    {
     "data": {
      "text/plain": [
       "0         ['Haut standing', 'En cours de construction']\n",
       "1         ['Haut standing', 'En cours de construction']\n",
       "2         ['Haut standing', 'En cours de construction']\n",
       "3                         ['Haut standing', 'Finalisé']\n",
       "4     ['Haut standing', 'En cours de construction', ...\n",
       "5                         ['Haut standing', 'Finalisé']\n",
       "6                         ['Haut standing', 'Finalisé']\n",
       "7     ['Haut standing', 'Finalisé', 'Livraison févri...\n",
       "8         ['Haut standing', 'En cours de construction']\n",
       "9                         ['Haut standing', 'Finalisé']\n",
       "10        ['Haut standing', 'En cours de construction']\n",
       "11    ['Haut standing', 'En cours de construction', ...\n",
       "12                           ['Économique', 'Finalisé']\n",
       "13    ['Haut standing', 'En cours de construction', ...\n",
       "14                        ['Haut standing', 'Finalisé']\n",
       "15    ['Haut standing', 'Finalisé', 'Livraison févri...\n",
       "16                                         ['Finalisé']\n",
       "17    ['Haut standing', 'Finalisé', 'Livraison décem...\n",
       "18    ['Haut standing', 'Finalisé', 'Livraison janvi...\n",
       "19    ['Moyen standing', 'Finalisé', 'Livraison déce...\n",
       "20        ['Haut standing', 'En cours de construction']\n",
       "21    ['Haut standing', 'Finalisé', 'Livraison juill...\n",
       "22    ['Haut standing', 'Finalisé', 'Livraison mai 2...\n",
       "23    ['Haut standing', 'En cours de construction', ...\n",
       "24    ['Haut standing', 'Finalisé', 'Livraison décem...\n",
       "25                                         ['Finalisé']\n",
       "26                                         ['Finalisé']\n",
       "27                           ['Économique', 'Finalisé']\n",
       "28                        ['Haut standing', 'Finalisé']\n",
       "29    ['Moyen standing', 'Finalisé', 'Livraison mars...\n",
       "30    ['Haut standing', 'En cours de construction', ...\n",
       "31                        ['Haut standing', 'Finalisé']\n",
       "32    ['Moyen standing', 'Finalisé', 'Livraison déce...\n",
       "33                        ['Haut standing', 'Finalisé']\n",
       "34    ['Haut standing', 'Finalisé', 'Livraison janvi...\n",
       "35                                         ['Finalisé']\n",
       "36              ['Finalisé', 'Livraison novembre 2018']\n",
       "37                        ['Haut standing', 'Finalisé']\n",
       "38                        ['Haut standing', 'Finalisé']\n",
       "39             ['Finalisé', 'Livraison septembre 2021']\n",
       "40                        ['Haut standing', 'Finalisé']\n",
       "41                        ['Haut standing', 'Finalisé']\n",
       "42    ['Haut standing', 'Finalisé', 'Livraison décem...\n",
       "43                       ['Moyen standing', 'Finalisé']\n",
       "44                        ['Haut standing', 'Finalisé']\n",
       "Name: standing, dtype: object"
      ]
     },
     "execution_count": 49,
     "metadata": {},
     "output_type": "execute_result"
    }
   ],
   "source": [
    "df['standing']"
   ]
  },
  {
   "cell_type": "code",
   "execution_count": 49,
   "id": "cafeaec0",
   "metadata": {},
   "outputs": [
    {
     "data": {
      "text/plain": [
       "0     Shems Almadina Benslimane offrent à ses réside...\n",
       "1     Habitez à la meilleure adresse de Mohammedia, ...\n",
       "2     UNE SITUATION PRIVILEGIEE\\n\\nA Dar Bouazza, à ...\n",
       "3     Ramasakan, vous propose des locaux commerciaux...\n",
       "4     Après le succés de la 1ere tranche, Al Akaria ...\n",
       "5     Sur un magnifique front de mer, PALM HILLS DAR...\n",
       "6     Un épanouissement au quotidien, des moments in...\n",
       "7     Idéalement situé sur El Mansouria, le projet «...\n",
       "8     Développer son business est l’objectif premier...\n",
       "9     Grâce à sa façade moderne, ses finitions irrép...\n",
       "10    Shems Almadina Benslimane offrent à ses réside...\n",
       "11    Chacun d’entre nous a des rêves plein la tête....\n",
       "12    Un quartier écologique, qui offre des lots de ...\n",
       "13    Après le succés de la 1ere tranche, Al Akaria ...\n",
       "14    Ramasakan, vous propose des locaux commerciaux...\n",
       "15    Idéalement situé sur El Mansouria, le projet «...\n",
       "16    Lotissement Farah Californie vous propose des ...\n",
       "17    Dar Bouazza, perle de la façade atlantique aux...\n",
       "18    Doté d'un agencement fonctionnel et d'une fini...\n",
       "19    RÉSIDENCE M – BOUSKOURA est un ensemble d’appa...\n",
       "20    « Les Crêtes de Bentriaa » est votre nouveau c...\n",
       "21    Située à Bouskoura, la Résidence Mirabel 3 est...\n",
       "22    La somptuosité d’une cité balnéaire\\n\\nSpécial...\n",
       "23    Le projet « Central Square Hay Hassani » : une...\n",
       "24    A seulement 300 mètres de la mer, Les Terrasse...\n",
       "25    À vendre à Lakhaita Lots de terrains R+2\\n\\n- ...\n",
       "26    Lotissement Farah Californie vous propose des ...\n",
       "27    Votre rythme de vie vous impose d’habiter près...\n",
       "28    Résidence la Cazelle conçue et réalisée dans l...\n",
       "29    1 Appartement acheté = Un Salon Meublé OFFERT\\...\n",
       "30    Le projet « Central Square Hay Hassani » : une...\n",
       "31    Le projet \"LES COLLINES DE DAR BOUAZZA\" dévelo...\n",
       "32    RÉSIDENCE M – BOUSKOURA est un ensemble d’appa...\n",
       "33    Résidence la Cazelle conçue et réalisée dans l...\n",
       "34    Le raffinement et la modernité au service d’un...\n",
       "35    Le projet Yacout Tit Mellil est la grande fier...\n",
       "36    Dans un pole urbain en plein développement, No...\n",
       "37    Quiétude et béatitude sont les promesses que v...\n",
       "38    Proposant un environnement calme et serein et ...\n",
       "39    Niché en plein cœur de Bouskoura à environ 15 ...\n",
       "40    Idéalement située dans le quartier huppé de l’...\n",
       "41    Située dans une ruelle calme du quartier Ferme...\n",
       "42    Située à 25 km au Sud de Casablanca, Gloria of...\n",
       "43    Norway Amira est le résultat d’une étude détai...\n",
       "44    A 5 mn à pieds de la plage Oued Cherrat, se tr...\n",
       "Name: description, dtype: object"
      ]
     },
     "execution_count": 49,
     "metadata": {},
     "output_type": "execute_result"
    }
   ],
   "source": [
    "df['description']"
   ]
  },
  {
   "cell_type": "code",
   "execution_count": 50,
   "id": "1918ce1a",
   "metadata": {},
   "outputs": [
    {
     "name": "stdout",
     "output_type": "stream",
     "text": [
      "<class 'pandas.core.frame.DataFrame'>\n",
      "RangeIndex: 45 entries, 0 to 44\n",
      "Data columns (total 10 columns):\n",
      " #   Column       Non-Null Count  Dtype \n",
      "---  ------       --------------  ----- \n",
      " 0   titre        45 non-null     object\n",
      " 1   lien         45 non-null     object\n",
      " 2   date_pub     45 non-null     int32 \n",
      " 3   place        45 non-null     object\n",
      " 4   prix_partir  45 non-null     int32 \n",
      " 5   prix_m       45 non-null     int32 \n",
      " 6   standing     45 non-null     object\n",
      " 7   description  45 non-null     object\n",
      " 8   secteur      45 non-null     object\n",
      " 9   ville        45 non-null     object\n",
      "dtypes: int32(3), object(7)\n",
      "memory usage: 3.1+ KB\n"
     ]
    }
   ],
   "source": [
    "df.info()"
   ]
  },
  {
   "cell_type": "code",
   "execution_count": 51,
   "id": "eba69890",
   "metadata": {},
   "outputs": [
    {
     "data": {
      "text/html": [
       "<div>\n",
       "<style scoped>\n",
       "    .dataframe tbody tr th:only-of-type {\n",
       "        vertical-align: middle;\n",
       "    }\n",
       "\n",
       "    .dataframe tbody tr th {\n",
       "        vertical-align: top;\n",
       "    }\n",
       "\n",
       "    .dataframe thead th {\n",
       "        text-align: right;\n",
       "    }\n",
       "</style>\n",
       "<table border=\"1\" class=\"dataframe\">\n",
       "  <thead>\n",
       "    <tr style=\"text-align: right;\">\n",
       "      <th></th>\n",
       "      <th>date_pub</th>\n",
       "      <th>prix_partir</th>\n",
       "      <th>prix_m</th>\n",
       "    </tr>\n",
       "  </thead>\n",
       "  <tbody>\n",
       "    <tr>\n",
       "      <th>count</th>\n",
       "      <td>45.000000</td>\n",
       "      <td>4.500000e+01</td>\n",
       "      <td>45.000000</td>\n",
       "    </tr>\n",
       "    <tr>\n",
       "      <th>mean</th>\n",
       "      <td>4.488889</td>\n",
       "      <td>1.220629e+06</td>\n",
       "      <td>11324.444444</td>\n",
       "    </tr>\n",
       "    <tr>\n",
       "      <th>std</th>\n",
       "      <td>1.816868</td>\n",
       "      <td>8.579630e+05</td>\n",
       "      <td>4782.111817</td>\n",
       "    </tr>\n",
       "    <tr>\n",
       "      <th>min</th>\n",
       "      <td>2.000000</td>\n",
       "      <td>1.800000e+05</td>\n",
       "      <td>2500.000000</td>\n",
       "    </tr>\n",
       "    <tr>\n",
       "      <th>25%</th>\n",
       "      <td>2.000000</td>\n",
       "      <td>7.000000e+05</td>\n",
       "      <td>8900.000000</td>\n",
       "    </tr>\n",
       "    <tr>\n",
       "      <th>50%</th>\n",
       "      <td>5.000000</td>\n",
       "      <td>9.600000e+05</td>\n",
       "      <td>11250.000000</td>\n",
       "    </tr>\n",
       "    <tr>\n",
       "      <th>75%</th>\n",
       "      <td>6.000000</td>\n",
       "      <td>1.500000e+06</td>\n",
       "      <td>14500.000000</td>\n",
       "    </tr>\n",
       "    <tr>\n",
       "      <th>max</th>\n",
       "      <td>6.000000</td>\n",
       "      <td>4.500000e+06</td>\n",
       "      <td>22500.000000</td>\n",
       "    </tr>\n",
       "  </tbody>\n",
       "</table>\n",
       "</div>"
      ],
      "text/plain": [
       "        date_pub   prix_partir        prix_m\n",
       "count  45.000000  4.500000e+01     45.000000\n",
       "mean    4.488889  1.220629e+06  11324.444444\n",
       "std     1.816868  8.579630e+05   4782.111817\n",
       "min     2.000000  1.800000e+05   2500.000000\n",
       "25%     2.000000  7.000000e+05   8900.000000\n",
       "50%     5.000000  9.600000e+05  11250.000000\n",
       "75%     6.000000  1.500000e+06  14500.000000\n",
       "max     6.000000  4.500000e+06  22500.000000"
      ]
     },
     "execution_count": 51,
     "metadata": {},
     "output_type": "execute_result"
    }
   ],
   "source": [
    "df.describe()#valeur statistique numerique"
   ]
  },
  {
   "cell_type": "code",
   "execution_count": 52,
   "id": "a9a2822c",
   "metadata": {},
   "outputs": [
    {
     "data": {
      "text/html": [
       "<div>\n",
       "<style scoped>\n",
       "    .dataframe tbody tr th:only-of-type {\n",
       "        vertical-align: middle;\n",
       "    }\n",
       "\n",
       "    .dataframe tbody tr th {\n",
       "        vertical-align: top;\n",
       "    }\n",
       "\n",
       "    .dataframe thead th {\n",
       "        text-align: right;\n",
       "    }\n",
       "</style>\n",
       "<table border=\"1\" class=\"dataframe\">\n",
       "  <thead>\n",
       "    <tr style=\"text-align: right;\">\n",
       "      <th></th>\n",
       "      <th>titre</th>\n",
       "      <th>lien</th>\n",
       "      <th>place</th>\n",
       "      <th>standing</th>\n",
       "      <th>description</th>\n",
       "      <th>secteur</th>\n",
       "      <th>ville</th>\n",
       "    </tr>\n",
       "  </thead>\n",
       "  <tbody>\n",
       "    <tr>\n",
       "      <th>count</th>\n",
       "      <td>45</td>\n",
       "      <td>45</td>\n",
       "      <td>45</td>\n",
       "      <td>45</td>\n",
       "      <td>45</td>\n",
       "      <td>45</td>\n",
       "      <td>45</td>\n",
       "    </tr>\n",
       "    <tr>\n",
       "      <th>unique</th>\n",
       "      <td>37</td>\n",
       "      <td>37</td>\n",
       "      <td>20</td>\n",
       "      <td>1</td>\n",
       "      <td>37</td>\n",
       "      <td>13</td>\n",
       "      <td>12</td>\n",
       "    </tr>\n",
       "    <tr>\n",
       "      <th>top</th>\n",
       "      <td>Shems Al Madina - Lots de Villas</td>\n",
       "      <td>https://www.mubawab.ma/fr/p/1730/shems-al-madi...</td>\n",
       "      <td>Bouskoura</td>\n",
       "      <td>Haut standing</td>\n",
       "      <td>Shems Almadina Benslimane offrent à ses réside...</td>\n",
       "      <td>sans</td>\n",
       "      <td>Casablanca</td>\n",
       "    </tr>\n",
       "    <tr>\n",
       "      <th>freq</th>\n",
       "      <td>2</td>\n",
       "      <td>2</td>\n",
       "      <td>5</td>\n",
       "      <td>45</td>\n",
       "      <td>2</td>\n",
       "      <td>19</td>\n",
       "      <td>18</td>\n",
       "    </tr>\n",
       "  </tbody>\n",
       "</table>\n",
       "</div>"
      ],
      "text/plain": [
       "                                   titre  \\\n",
       "count                                 45   \n",
       "unique                                37   \n",
       "top     Shems Al Madina - Lots de Villas   \n",
       "freq                                   2   \n",
       "\n",
       "                                                     lien      place  \\\n",
       "count                                                  45         45   \n",
       "unique                                                 37         20   \n",
       "top     https://www.mubawab.ma/fr/p/1730/shems-al-madi...  Bouskoura   \n",
       "freq                                                    2          5   \n",
       "\n",
       "             standing                                        description  \\\n",
       "count              45                                                 45   \n",
       "unique              1                                                 37   \n",
       "top     Haut standing  Shems Almadina Benslimane offrent à ses réside...   \n",
       "freq               45                                                  2   \n",
       "\n",
       "       secteur        ville  \n",
       "count       45           45  \n",
       "unique      13           12  \n",
       "top       sans   Casablanca  \n",
       "freq        19           18  "
      ]
     },
     "execution_count": 52,
     "metadata": {},
     "output_type": "execute_result"
    }
   ],
   "source": [
    "df.describe(include='O')#afficher les valeurs sumailure de type categorique "
   ]
  },
  {
   "cell_type": "code",
   "execution_count": 53,
   "id": "9283981d",
   "metadata": {},
   "outputs": [
    {
     "data": {
      "text/plain": [
       "<seaborn.axisgrid.PairGrid at 0x144a4b18b80>"
      ]
     },
     "execution_count": 53,
     "metadata": {},
     "output_type": "execute_result"
    },
    {
     "data": {
      "image/png": "[encoded data removed]",
      "text/plain": [
       "<Figure size 540x540 with 12 Axes>"
      ]
     },
     "metadata": {
      "needs_background": "light"
     },
     "output_type": "display_data"
    }
   ],
   "source": [
    "sns.pairplot(df)"
   ]
  },
  {
   "cell_type": "code",
   "execution_count": 54,
   "id": "7c6309e7",
   "metadata": {},
   "outputs": [
    {
     "data": {
      "text/html": [
       "<div>\n",
       "<style scoped>\n",
       "    .dataframe tbody tr th:only-of-type {\n",
       "        vertical-align: middle;\n",
       "    }\n",
       "\n",
       "    .dataframe tbody tr th {\n",
       "        vertical-align: top;\n",
       "    }\n",
       "\n",
       "    .dataframe thead th {\n",
       "        text-align: right;\n",
       "    }\n",
       "</style>\n",
       "<table border=\"1\" class=\"dataframe\">\n",
       "  <thead>\n",
       "    <tr style=\"text-align: right;\">\n",
       "      <th></th>\n",
       "      <th>date_pub</th>\n",
       "      <th>prix_partir</th>\n",
       "      <th>prix_m</th>\n",
       "    </tr>\n",
       "  </thead>\n",
       "  <tbody>\n",
       "    <tr>\n",
       "      <th>date_pub</th>\n",
       "      <td>1.000000</td>\n",
       "      <td>-0.025023</td>\n",
       "      <td>-0.039074</td>\n",
       "    </tr>\n",
       "    <tr>\n",
       "      <th>prix_partir</th>\n",
       "      <td>-0.025023</td>\n",
       "      <td>1.000000</td>\n",
       "      <td>0.164894</td>\n",
       "    </tr>\n",
       "    <tr>\n",
       "      <th>prix_m</th>\n",
       "      <td>-0.039074</td>\n",
       "      <td>0.164894</td>\n",
       "      <td>1.000000</td>\n",
       "    </tr>\n",
       "  </tbody>\n",
       "</table>\n",
       "</div>"
      ],
      "text/plain": [
       "             date_pub  prix_partir    prix_m\n",
       "date_pub     1.000000    -0.025023 -0.039074\n",
       "prix_partir -0.025023     1.000000  0.164894\n",
       "prix_m      -0.039074     0.164894  1.000000"
      ]
     },
     "execution_count": 54,
     "metadata": {},
     "output_type": "execute_result"
    }
   ],
   "source": [
    "corel=df.corr()\n",
    "corel"
   ]
  },
  {
   "cell_type": "code",
   "execution_count": 55,
   "id": "de3dbd2a",
   "metadata": {},
   "outputs": [
    {
     "data": {
      "text/plain": [
       "<AxesSubplot:>"
      ]
     },
     "execution_count": 55,
     "metadata": {},
     "output_type": "execute_result"
    },
    {
     "data": {
      "image/png": "[encoded data removed]",
      "text/plain": [
       "<Figure size 432x288 with 2 Axes>"
      ]
     },
     "metadata": {
      "needs_background": "light"
     },
     "output_type": "display_data"
    }
   ],
   "source": [
    "sns.heatmap(corel) "
   ]
  },
  {
   "cell_type": "code",
   "execution_count": 56,
   "id": "d8e9eb3b",
   "metadata": {},
   "outputs": [
    {
     "name": "stderr",
     "output_type": "stream",
     "text": [
      "C:\\Users\\sbaia\\anaconda3\\lib\\site-packages\\seaborn\\distributions.py:2619: FutureWarning: `distplot` is a deprecated function and will be removed in a future version. Please adapt your code to use either `displot` (a figure-level function with similar flexibility) or `histplot` (an axes-level function for histograms).\n",
      "  warnings.warn(msg, FutureWarning)\n"
     ]
    },
    {
     "data": {
      "text/plain": [
       "<AxesSubplot:xlabel='prix_m', ylabel='Density'>"
      ]
     },
     "execution_count": 56,
     "metadata": {},
     "output_type": "execute_result"
    },
    {
     "data": {
      "image/png": "[encoded data removed]",
      "text/plain": [
       "<Figure size 432x288 with 1 Axes>"
      ]
     },
     "metadata": {
      "needs_background": "light"
     },
     "output_type": "display_data"
    }
   ],
   "source": [
    "sns.distplot(df['prix_m']) #Affichage du Prix m"
   ]
  },
  {
   "cell_type": "code",
   "execution_count": 57,
   "id": "2b5a4e04",
   "metadata": {},
   "outputs": [
    {
     "name": "stderr",
     "output_type": "stream",
     "text": [
      "C:\\Users\\sbaia\\anaconda3\\lib\\site-packages\\seaborn\\distributions.py:2619: FutureWarning: `distplot` is a deprecated function and will be removed in a future version. Please adapt your code to use either `displot` (a figure-level function with similar flexibility) or `histplot` (an axes-level function for histograms).\n",
      "  warnings.warn(msg, FutureWarning)\n"
     ]
    },
    {
     "data": {
      "text/plain": [
       "<AxesSubplot:xlabel='prix_partir', ylabel='Density'>"
      ]
     },
     "execution_count": 57,
     "metadata": {},
     "output_type": "execute_result"
    },
    {
     "data": {
      "image/png": "[encoded data removed]",
      "text/plain": [
       "<Figure size 432x288 with 1 Axes>"
      ]
     },
     "metadata": {
      "needs_background": "light"
     },
     "output_type": "display_data"
    }
   ],
   "source": [
    "sns.distplot(df['prix_partir']) #Affichage du Prix a partir"
   ]
  },
  {
   "cell_type": "code",
   "execution_count": 58,
   "id": "cee3c073",
   "metadata": {},
   "outputs": [
    {
     "data": {
      "image/png": "[encoded data removed]",
      "text/plain": [
       "<Figure size 576x504 with 1 Axes>"
      ]
     },
     "metadata": {
      "needs_background": "light"
     },
     "output_type": "display_data"
    }
   ],
   "source": [
    "from collections import Counter\n",
    "fig, ax = plt.subplots(figsize=(8, 7))\n",
    "count = Counter(df['date_pub'])\n",
    "labels = []\n",
    "\n",
    "for i in count:\n",
    "    labels.append(i)\n",
    "    \n",
    "plt.bar(labels, count.values(), color='green')\n",
    "plt.title('pubdate')\n",
    "plt.ylabel('Number of mounth')\n",
    "plt.xlabel('Mois')\n",
    "plt.show()"
   ]
  },
  {
   "cell_type": "code",
   "execution_count": null,
   "id": "1f67243c",
   "metadata": {},
   "outputs": [],
   "source": []
  },
  {
   "cell_type": "code",
   "execution_count": null,
   "id": "91110bbd",
   "metadata": {},
   "outputs": [],
   "source": []
  },
  {
   "cell_type": "code",
   "execution_count": null,
   "id": "017d8150",
   "metadata": {},
   "outputs": [],
   "source": []
  }
 ],
 "metadata": {
  "kernelspec": {
   "display_name": "Python 3 (ipykernel)",
   "language": "python",
   "name": "python3"
  },
  "language_info": {
   "codemirror_mode": {
    "name": "ipython",
    "version": 3
   },
   "file_extension": ".py",
   "mimetype": "text/x-python",
   "name": "python",
   "nbconvert_exporter": "python",
   "pygments_lexer": "ipython3",
   "version": "3.9.7"
  }
 },
 "nbformat": 4,
 "nbformat_minor": 5
}
